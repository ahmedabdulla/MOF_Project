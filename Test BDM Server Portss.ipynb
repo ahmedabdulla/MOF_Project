{
 "cells": [
  {
   "cell_type": "markdown",
   "metadata": {},
   "source": [
    "# Testing TCP Connections in Server ry1trvdwgbdm01\n",
    "\n",
    "### Server IP: 10.13.85.65\n",
    "### Server Name: ry1trvdwgbdm01.mof.test\n",
    "\n",
    "## You must first connect with your VPN\n",
    "### This document will save your time just configure the IPs and the Ports as blow examples."
   ]
  },
  {
   "cell_type": "code",
   "execution_count": 1,
   "metadata": {},
   "outputs": [],
   "source": [
    "import socket\n",
    "def isOpen(ip,port):\n",
    "   s = socket.socket(socket.AF_INET, socket.SOCK_STREAM)\n",
    "   try:\n",
    "      s.connect((ip, int(port)))\n",
    "      s.shutdown(2)\n",
    "      return True\n",
    "   except:\n",
    "      return False\n",
    "\n",
    "def testConnections(ips, ports):\n",
    "    seq = 0\n",
    "    for ip in ips:\n",
    "        for port in ports:\n",
    "            seq += 1\n",
    "            connected = isOpen(ip, port)\n",
    "            status = 'Connected' if connected else 'Can\\'t Connect'\n",
    "            print (str(seq) +'. '+status + ' to ip ' + ip + ' using port '+ port)"
   ]
  },
  {
   "cell_type": "markdown",
   "metadata": {},
   "source": [
    "# 0. BDM Connect to Big Data Servers"
   ]
  },
  {
   "cell_type": "code",
   "execution_count": 2,
   "metadata": {},
   "outputs": [
    {
     "name": "stdout",
     "output_type": "stream",
     "text": [
      "1. Connected to ip 10.13.85.6 using port 21000\n",
      "2. Connected to ip 10.13.85.6 using port 21050\n",
      "3. Connected to ip 10.13.85.6 using port 25000\n",
      "4. Can't Connect to ip 10.13.85.6 using port 25010\n",
      "5. Can't Connect to ip 10.13.85.6 using port 25020\n",
      "6. Connected to ip 10.13.85.7 using port 21000\n",
      "7. Connected to ip 10.13.85.7 using port 21050\n",
      "8. Connected to ip 10.13.85.7 using port 25000\n",
      "9. Can't Connect to ip 10.13.85.7 using port 25010\n",
      "10. Connected to ip 10.13.85.7 using port 25020\n",
      "11. Connected to ip 10.13.85.8 using port 21000\n",
      "12. Connected to ip 10.13.85.8 using port 21050\n",
      "13. Connected to ip 10.13.85.8 using port 25000\n",
      "14. Can't Connect to ip 10.13.85.8 using port 25010\n",
      "15. Can't Connect to ip 10.13.85.8 using port 25020\n",
      "16. Connected to ip 10.13.85.9 using port 21000\n",
      "17. Connected to ip 10.13.85.9 using port 21050\n",
      "18. Connected to ip 10.13.85.9 using port 25000\n",
      "19. Connected to ip 10.13.85.9 using port 25010\n",
      "20. Can't Connect to ip 10.13.85.9 using port 25020\n",
      "21. Connected to ip 10.13.85.51 using port 21000\n",
      "22. Connected to ip 10.13.85.51 using port 21050\n",
      "23. Connected to ip 10.13.85.51 using port 25000\n",
      "24. Can't Connect to ip 10.13.85.51 using port 25010\n",
      "25. Can't Connect to ip 10.13.85.51 using port 25020\n",
      "26. Connected to ip 10.13.85.52 using port 21000\n",
      "27. Connected to ip 10.13.85.52 using port 21050\n",
      "28. Connected to ip 10.13.85.52 using port 25000\n",
      "29. Can't Connect to ip 10.13.85.52 using port 25010\n",
      "30. Can't Connect to ip 10.13.85.52 using port 25020\n"
     ]
    }
   ],
   "source": [
    "IPS = ['10.13.85.6', '10.13.85.7', '10.13.85.8', '10.13.85.9', '10.13.85.51', '10.13.85.52']\n",
    "PORTS = ['21000', '21050', '25000', '25010', '25020']\n",
    "testConnections(IPS, PORTS)"
   ]
  },
  {
   "cell_type": "markdown",
   "metadata": {},
   "source": [
    "# 1. BDM connect to DWH"
   ]
  },
  {
   "cell_type": "code",
   "execution_count": 3,
   "metadata": {},
   "outputs": [
    {
     "name": "stdout",
     "output_type": "stream",
     "text": [
      "1. Connected to ip 10.14.10.36 using port 1521\n"
     ]
    }
   ],
   "source": [
    "IPS = ['10.14.10.36']\n",
    "PORTS = ['1521']\n",
    "testConnections(IPS, PORTS)"
   ]
  },
  {
   "cell_type": "markdown",
   "metadata": {},
   "source": [
    "# 2. BDM connect to ETIMAD DB"
   ]
  },
  {
   "cell_type": "code",
   "execution_count": 4,
   "metadata": {},
   "outputs": [
    {
     "name": "stdout",
     "output_type": "stream",
     "text": [
      "1. Connected to ip 10.14.10.70 using port 7998\n",
      "2. Connected to ip 10.14.10.70 using port 57587\n",
      "3. Can't Connect to ip 10.14.10.49 using port 7998\n",
      "4. Connected to ip 10.14.10.49 using port 57587\n",
      "5. Can't Connect to ip 10.14.10.50 using port 7998\n",
      "6. Connected to ip 10.14.10.50 using port 57587\n"
     ]
    }
   ],
   "source": [
    "IPS = ['10.14.10.70', '10.14.10.49', '10.14.10.50']\n",
    "PORTS = ['7998', '57587']\n",
    "testConnections(IPS, PORTS)"
   ]
  },
  {
   "cell_type": "markdown",
   "metadata": {},
   "source": [
    "# 3. BDM connect to NTIS"
   ]
  },
  {
   "cell_type": "code",
   "execution_count": 5,
   "metadata": {},
   "outputs": [
    {
     "name": "stdout",
     "output_type": "stream",
     "text": [
      "1. Connected to ip 10.14.10.33 using port 1543\n"
     ]
    }
   ],
   "source": [
    "IPS = ['10.14.10.33']\n",
    "PORTS = ['1543']\n",
    "testConnections(IPS, PORTS)"
   ]
  },
  {
   "cell_type": "markdown",
   "metadata": {},
   "source": [
    "# 4. BDM connect to Hyperion"
   ]
  },
  {
   "cell_type": "code",
   "execution_count": 6,
   "metadata": {},
   "outputs": [
    {
     "name": "stdout",
     "output_type": "stream",
     "text": [
      "1. Connected to ip 10.14.9.23 using port 13080\n"
     ]
    }
   ],
   "source": [
    "IPS = ['10.14.9.23']\n",
    "PORTS = ['13080']\n",
    "testConnections(IPS, PORTS)"
   ]
  },
  {
   "cell_type": "markdown",
   "metadata": {},
   "source": [
    "# 5. BDM connect to Tahseel"
   ]
  },
  {
   "cell_type": "code",
   "execution_count": 7,
   "metadata": {},
   "outputs": [
    {
     "name": "stdout",
     "output_type": "stream",
     "text": [
      "1. Connected to ip 10.14.26.230 using port 50000\n"
     ]
    }
   ],
   "source": [
    "IPS = ['10.14.26.230']\n",
    "PORTS = ['50000']\n",
    "testConnections(IPS, PORTS)"
   ]
  },
  {
   "cell_type": "markdown",
   "metadata": {},
   "source": [
    "# 6. BDM connect to Monafasat"
   ]
  },
  {
   "cell_type": "code",
   "execution_count": 8,
   "metadata": {},
   "outputs": [
    {
     "name": "stdout",
     "output_type": "stream",
     "text": [
      "1. Can't Connect to ip 10.14.10.61 using port 1433\n",
      "2. Connected to ip 10.14.10.61 using port 50025\n"
     ]
    }
   ],
   "source": [
    "IPS = ['10.14.10.61']\n",
    "PORTS = ['1433', '50025']\n",
    "testConnections(IPS, PORTS)"
   ]
  },
  {
   "cell_type": "markdown",
   "metadata": {},
   "source": [
    "# 7. BDM connect to UGP"
   ]
  },
  {
   "cell_type": "code",
   "execution_count": 9,
   "metadata": {},
   "outputs": [
    {
     "name": "stdout",
     "output_type": "stream",
     "text": [
      "1. Can't Connect to ip 10.14.10.61 using port 49977\n"
     ]
    }
   ],
   "source": [
    "IPS = ['10.14.10.61'] # WE need the correct ip for that server.\n",
    "PORTS = ['49977']\n",
    "testConnections(IPS, PORTS)"
   ]
  },
  {
   "cell_type": "code",
   "execution_count": null,
   "metadata": {},
   "outputs": [],
   "source": []
  },
  {
   "cell_type": "code",
   "execution_count": null,
   "metadata": {},
   "outputs": [],
   "source": []
  }
 ],
 "metadata": {
  "kernelspec": {
   "display_name": "Python 3",
   "language": "python",
   "name": "python3"
  },
  "language_info": {
   "codemirror_mode": {
    "name": "ipython",
    "version": 3
   },
   "file_extension": ".py",
   "mimetype": "text/x-python",
   "name": "python",
   "nbconvert_exporter": "python",
   "pygments_lexer": "ipython3",
   "version": "3.8.3"
  }
 },
 "nbformat": 4,
 "nbformat_minor": 4
}
